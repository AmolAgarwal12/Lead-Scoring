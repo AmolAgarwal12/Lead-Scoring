{
 "cells": [
  {
   "cell_type": "code",
   "execution_count": 1,
   "metadata": {},
   "outputs": [
    {
     "name": "stdout",
     "output_type": "stream",
     "text": [
      "hello world\n"
     ]
    }
   ],
   "source": [
    "print(\"hello world\")"
   ]
  },
  {
   "cell_type": "code",
   "execution_count": 9,
   "metadata": {},
   "outputs": [
    {
     "name": "stdout",
     "output_type": "stream",
     "text": [
      "['ha', 'mahn', 'hanu']\n"
     ]
    }
   ],
   "source": [
    "l = ['hanu','mahn','ha']\n",
    "ls = []\n",
    "for st in l:\n",
    "    ls.append(st[::-1])\n",
    "ls.sort()\n",
    "l.clear()\n",
    "for i in ls:\n",
    "    l.append(i[::-1])\n",
    "print(l)"
   ]
  },
  {
   "cell_type": "code",
   "execution_count": 12,
   "metadata": {},
   "outputs": [
    {
     "name": "stdout",
     "output_type": "stream",
     "text": [
      "{'Pune': 5, 'Mumbai': 3, 'Delhi': 3, 'Mohali': 5}\n"
     ]
    }
   ],
   "source": [
    "c1 = {\"Pune\": 2, \"Mumbai\":3, \"Delhi\":3}\n",
    "c2 = {\"Mohali\" :5, \"Pune\":3}\n",
    "\n",
    "c3 = dict()\n",
    "for k,v in c1.items():\n",
    "    if k in c2.keys():\n",
    "        c3[k] = v + c2[k]\n",
    "    else:\n",
    "        c3[k] = v\n",
    "for k,v in c2.items():\n",
    "    if k not in c3.keys():\n",
    "        c3[k] = v\n",
    "print(c3)"
   ]
  },
  {
   "cell_type": "code",
   "execution_count": 13,
   "metadata": {},
   "outputs": [],
   "source": [
    "def fun(c1,c2):\n",
    "    c3 = dict()\n",
    "    for k,v in c1.items():\n",
    "        if k in c2.keys():\n",
    "            c3[k] = v + c2[k]\n",
    "        else:\n",
    "            c3[k] = v\n",
    "    for k,v in c2.items():\n",
    "        if k not in c3.keys():\n",
    "            c3[k] = v\n",
    "    return c3"
   ]
  },
  {
   "cell_type": "code",
   "execution_count": 14,
   "metadata": {},
   "outputs": [
    {
     "name": "stdout",
     "output_type": "stream",
     "text": [
      "[3, 5]\n"
     ]
    }
   ],
   "source": [
    "lst = [1,3,2,2,5,1,2]\n",
    "lst.sort()\n",
    "d = dict()\n",
    "for l in lst:\n",
    "    if l in d.keys():\n",
    "        d[l] = d[l]+1\n",
    "    else:\n",
    "        d[l] = 1\n",
    "lst.clear()\n",
    "for l in d.keys():\n",
    "    if d[l] ==1:\n",
    "        lst.append(l)\n",
    "print(lst)\n"
   ]
  },
  {
   "cell_type": "code",
   "execution_count": null,
   "metadata": {},
   "outputs": [],
   "source": []
  }
 ],
 "metadata": {
  "interpreter": {
   "hash": "ad2bdc8ecc057115af97d19610ffacc2b4e99fae6737bb82f5d7fb13d2f2c186"
  },
  "kernelspec": {
   "display_name": "Python 3.9.7 ('base')",
   "language": "python",
   "name": "python3"
  },
  "language_info": {
   "codemirror_mode": {
    "name": "ipython",
    "version": 3
   },
   "file_extension": ".py",
   "mimetype": "text/x-python",
   "name": "python",
   "nbconvert_exporter": "python",
   "pygments_lexer": "ipython3",
   "version": "3.9.7"
  },
  "orig_nbformat": 4
 },
 "nbformat": 4,
 "nbformat_minor": 2
}
